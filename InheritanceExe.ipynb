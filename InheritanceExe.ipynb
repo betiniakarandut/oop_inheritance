{
 "cells": [
  {
   "cell_type": "code",
   "execution_count": 4,
   "id": "95f84db8",
   "metadata": {},
   "outputs": [],
   "source": [
    "class Clothing:\n",
    "    \"\"\"class of Clothings\"\"\"\n",
    "    \n",
    "    \n",
    "    def __init__(self, color, size, style, price):\n",
    "        \"\"\"Method to instantiate clothing objects\n",
    "        \n",
    "        \n",
    "        Attributes:\n",
    "            color(string): color of the object\n",
    "            size(string): size of the object\n",
    "            style(string): style of the object\n",
    "            price(int): price of the object\n",
    "            \n",
    "        \"\"\"\n",
    "        \n",
    "        \n",
    "        self.color = color\n",
    "        self.size = size\n",
    "        self.style = style\n",
    "        self.price = price\n",
    "        \n",
    "\n",
    "    def change_price(self, price):\n",
    "        \"\"\"A method to calculate change in price\n",
    "        \n",
    "        \n",
    "        Args:\n",
    "            None\n",
    "            \n",
    "            \n",
    "        Returns:\n",
    "           Float: new price\n",
    "           \n",
    "        \"\"\"\n",
    "        \n",
    "        \n",
    "        self.price = price\n",
    "        \n",
    "\n",
    "    def calculate_discount(self, discount):\n",
    "        return self.price * (1 - discount)\n",
    "    \n",
    "    def calculate_shipping(self, weight, rate):\n",
    "        \n",
    "        return weight * rate\n",
    "\n",
    "class Shirt(Clothing):\n",
    "\n",
    "    def __init__(self, color, size, style, price, long_or_short):\n",
    "\n",
    "        Clothing.__init__(self, color, size, style, price)\n",
    "        self.long_or_short = long_or_short\n",
    "\n",
    "    def double_price(self):\n",
    "        self.price = 2*self.price\n",
    "\n",
    "class Pants(Clothing):\n",
    "    \n",
    "    def __init__(self, color, size, style, price, waist):\n",
    "\n",
    "        Clothing.__init__(self, color, size, style, price)\n",
    "        self.waist = waist\n",
    "\n",
    "    def calculate_discount(self, discount):\n",
    "        return self.price * (1 - discount / 2)\n",
    "    \n",
    "class Blouse(Clothing):\n",
    "    \n",
    "    def __init__(self, color, size, style, price, country_of_origin):\n",
    "        \n",
    "        Clothing.__init__(self, color, size, style, price)\n",
    "        self.country_of_origin = 'Brazil'\n",
    "        \n",
    "    def triple_price(self):\n",
    "        \n",
    "        return 3 * self.price"
   ]
  },
  {
   "cell_type": "code",
   "execution_count": 6,
   "id": "0af531f1",
   "metadata": {},
   "outputs": [
    {
     "data": {
      "text/plain": [
       "1600"
      ]
     },
     "execution_count": 6,
     "metadata": {},
     "output_type": "execute_result"
    }
   ],
   "source": [
    "blouse = Blouse('blue', 'L', 'long', 45, 'Brazil')\n",
    "blouse.change_price(50)\n",
    "blouse.triple_price()\n",
    "blouse.calculate_shipping(40, 40)\n"
   ]
  },
  {
   "cell_type": "code",
   "execution_count": 19,
   "id": "b1eef6fe",
   "metadata": {},
   "outputs": [
    {
     "name": "stderr",
     "output_type": "stream",
     "text": [
      "..\n",
      "----------------------------------------------------------------------\n",
      "Ran 2 tests in 0.005s\n",
      "\n",
      "OK\n"
     ]
    },
    {
     "data": {
      "text/plain": [
       "<unittest.runner.TextTestResult run=2 errors=0 failures=0>"
      ]
     },
     "execution_count": 19,
     "metadata": {},
     "output_type": "execute_result"
    }
   ],
   "source": [
    "import unittest\n",
    "\n",
    "class TestClothingClass(unittest.TestCase):\n",
    "    def setUp(self):\n",
    "        self.clothing = Clothing('orange', 'M', 'stripes', 35)\n",
    "        self.blouse = Blouse('blue', 'M', 'luxury', 40, 'Brazil')\n",
    "        self.pants = Pants('black', 32, 'baggy', 60, 30)\n",
    "\n",
    "    def test_initialization(self):\n",
    "        self.assertEqual(self.clothing.color, 'orange', 'color should be orange')\n",
    "        self.assertEqual(self.clothing.price, 35, 'incorrect price')\n",
    "        self.assertEqual(self.blouse.color, 'blue', 'color should be blue')\n",
    "        self.assertEqual(self.blouse.size, 'M', 'incorrect size')\n",
    "        self.assertEqual(self.blouse.style, 'luxury', 'incorrect style')\n",
    "        self.assertEqual(self.blouse.price, 40, 'incorrect price')\n",
    "        self.assertEqual(self.blouse.country_of_origin, 'Brazil', 'incorrect country of origin')\n",
    "\n",
    "    def test_calculateshipping(self):\n",
    "        self.assertEqual(self.clothing.calculate_shipping(.5, 3), .5 * 3) \n",
    "\n",
    "        self.assertEqual(self.blouse.calculate_shipping(.5, 3), .5 * 3) \n",
    "\n",
    "tests = TestClothingClass()\n",
    "\n",
    "tests_loaded = unittest.TestLoader().loadTestsFromModule(tests)\n",
    "\n",
    "unittest.TextTestRunner().run(tests_loaded)"
   ]
  },
  {
   "cell_type": "code",
   "execution_count": 18,
   "id": "6ac394a9",
   "metadata": {},
   "outputs": [],
   "source": [
    "class Clothing:\n",
    "\n",
    "    def __init__(self, color, size, style, price):\n",
    "        self.color = color\n",
    "        self.size = size\n",
    "        self.style = style\n",
    "        self.price = price\n",
    "        \n",
    "    def change_price(self, price):\n",
    "        self.price = price\n",
    "        \n",
    "    def calculate_discount(self, discount):\n",
    "        return self.price * (1 - discount)\n",
    "\n",
    "    def calculate_shipping(self, weight, rate):\n",
    "        return weight * rate\n",
    "        \n",
    "class Shirt(Clothing):\n",
    "    \n",
    "    def __init__(self, color, size, style, price, long_or_short):\n",
    "        \n",
    "        Clothing.__init__(self, color, size, style, price)\n",
    "        self.long_or_short = long_or_short\n",
    "    \n",
    "    def double_price(self):\n",
    "        self.price = 2*self.price\n",
    "    \n",
    "class Pants(Clothing):\n",
    "\n",
    "    def __init__(self, color, size, style, price, waist):\n",
    "        \n",
    "        Clothing.__init__(self, color, size, style, price)\n",
    "        self.waist = waist\n",
    "        \n",
    "    def calculate_discount(self, discount):\n",
    "        return self.price * (1 - discount / 2)\n",
    "\n",
    "class Blouse(Clothing):\n",
    "    def __init__(self, color, size, style, price, country_of_origin):\n",
    "        Clothing.__init__(self, color, size, style, price)\n",
    "        self.country_of_origin = country_of_origin\n",
    "    \n",
    "    def triple_price(self):\n",
    "        return 3 * self.price"
   ]
  }
 ],
 "metadata": {
  "kernelspec": {
   "display_name": "Python 3 (ipykernel)",
   "language": "python",
   "name": "python3"
  },
  "language_info": {
   "codemirror_mode": {
    "name": "ipython",
    "version": 3
   },
   "file_extension": ".py",
   "mimetype": "text/x-python",
   "name": "python",
   "nbconvert_exporter": "python",
   "pygments_lexer": "ipython3",
   "version": "3.9.12"
  }
 },
 "nbformat": 4,
 "nbformat_minor": 5
}
