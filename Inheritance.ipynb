{
 "cells": [
  {
   "cell_type": "code",
   "execution_count": 3,
   "id": "949ac2ce",
   "metadata": {},
   "outputs": [],
   "source": [
    "class Clothing:\n",
    "    \n",
    "    def __init__(self, color, size, style, price):\n",
    "        self.color = color \n",
    "        self.size = size \n",
    "        self.style = style \n",
    "        self.price = price\n",
    "        \n",
    "    def change_price(self, price):\n",
    "        \n",
    "        return self.price\n",
    "    \n",
    "    def calculate_discount(self, discount):\n",
    "        \n",
    "        return self.price * (1 - discount)\n",
    "        \n",
    "        "
   ]
  },
  {
   "cell_type": "code",
   "execution_count": 6,
   "id": "117fb5b8",
   "metadata": {},
   "outputs": [],
   "source": [
    "class Shirt(Clothing):\n",
    "    \n",
    "    def __init__(self, color, size, style, price, long_or_short):\n",
    "        \n",
    "        Clothing.__init__(self, color, size, style, price)\n",
    "        self.long_or_short = long_or_short\n",
    "            \n",
    "    def double_price(self): \n",
    "        self.price = 2 * self.price\n",
    "        \n",
    "class Pants(Clothing):\n",
    "    \n",
    "    def __init__(self, color, size, style, price, waist):\n",
    "        \n",
    "        Clothing.__init__(self, color, size, style, price)\n",
    "        self.waist = waist\n",
    "            \n",
    "    def calculate_discount(self, discount):\n",
    "        \n",
    "        return self.price * (1 - discount/2)\n",
    "        \n",
    "        "
   ]
  }
 ],
 "metadata": {
  "kernelspec": {
   "display_name": "Python 3 (ipykernel)",
   "language": "python",
   "name": "python3"
  },
  "language_info": {
   "codemirror_mode": {
    "name": "ipython",
    "version": 3
   },
   "file_extension": ".py",
   "mimetype": "text/x-python",
   "name": "python",
   "nbconvert_exporter": "python",
   "pygments_lexer": "ipython3",
   "version": "3.9.12"
  }
 },
 "nbformat": 4,
 "nbformat_minor": 5
}
